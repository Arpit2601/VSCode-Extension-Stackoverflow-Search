{
  "nbformat": 4,
  "nbformat_minor": 0,
  "metadata": {
    "kernelspec": {
      "display_name": "Python 3",
      "language": "python",
      "name": "python3"
    },
    "language_info": {
      "codemirror_mode": {
        "name": "ipython",
        "version": 3
      },
      "file_extension": ".py",
      "mimetype": "text/x-python",
      "name": "python",
      "nbconvert_exporter": "python",
      "pygments_lexer": "ipython3",
      "version": "3.8.5"
    },
    "colab": {
      "name": "DataPreprocessing.ipynb",
      "provenance": []
    }
  },
  "cells": [
    {
      "cell_type": "markdown",
      "metadata": {
        "id": "cQ9fTrxJbGrb"
      },
      "source": [
        "# The Task"
      ]
    },
    {
      "cell_type": "markdown",
      "metadata": {
        "id": "UhVIm_0DbGrc"
      },
      "source": [
        "As per the problem statement, I am required to return the closest questions as per a user's query. Thus in order to understand and learn from the data, I need to gather Questions and Answers that were posted on Stack Overflow. Thus what I need are the following: \n",
        "\n",
        "- Title \n",
        "- Question body\n",
        "- Answers for that question\n",
        "- Votes for each answers\n",
        "\n",
        "Due to the sheer abundance of data on Stack Overflow and better sanity checks, I restricted the data to only \"Python\" related questions. However, the entire process in reproducible for other topics as well"
      ]
    },
    {
      "cell_type": "markdown",
      "metadata": {
        "id": "6fOTzeUVbGrd"
      },
      "source": [
        "# Data Collection"
      ]
    },
    {
      "cell_type": "markdown",
      "metadata": {
        "id": "0LKzaf3cbGrd"
      },
      "source": [
        "**Google BigQuery** dataset includes an archive of Stack Overflow content, including posts, votes, tags, and badges. This dataset is updated to mirror the Stack Overflow content on the Internet Archive, and is also available through the Stack Exchange Data Explorer. More info about the dataset is given at: https://www.kaggle.com/stackoverflow/stackoverflow\n",
        "\n",
        "- **bq_helper** is a helper class to perform read-only BigQuery Tasks\n",
        "- There are many tables on the Stackoverflow database, but we only need concern ourselves with **posts_questions** and **posts_answers**\n",
        "\n",
        "The query the retrive the required data is *SELECT q.id, q.title, q.body, q.tags, a.body as answers, a.score FROM 'bigquery-public-data.stackoverflow.posts_questions' AS q INNER JOIN 'bigquery-public-data.stackoverflow.posts_answers' AS a ON q.id = a.parent_id WHERE q.tags LIKE '%python%' LIMIT 500000*\n",
        "\n",
        "1. **SELECT q.id, q.title, q.body, q.tags, a.body as answers, a.score**: Retreives the required columns for the data set\n",
        "2. **'bigquery-public-data.stackoverflow.posts_questions' AS q INNER JOIN 'bigquery-public-data.stackoverflow.posts_answers' AS a ON q.id = a.parent_id**: This joins the two tables based on the Question ID. Question ID is stored as **id** in \"posts_questions\" and as **parent_id** in \"posts_answers\"\n",
        "3. **WHERE q.tags LIKE '%python%'**: To restrict data to only python related questions\n",
        "4. **LIMIT 500000**: In order to collect not more than 500,000 data points for faster processing "
      ]
    },
    {
      "cell_type": "code",
      "metadata": {
        "id": "F_A-5gqGbGre",
        "outputId": "e4a8dd34-2d8b-4e2e-8aae-027a2a08b685",
        "colab": {
          "base_uri": "https://localhost:8080/",
          "height": 34
        }
      },
      "source": [
        "from google.colab import drive\n",
        "drive.mount('/content/gdrive')"
      ],
      "execution_count": 5,
      "outputs": [
        {
          "output_type": "stream",
          "text": [
            "Mounted at /content/gdrive\n"
          ],
          "name": "stdout"
        }
      ]
    },
    {
      "cell_type": "markdown",
      "metadata": {
        "id": "GcSlxbrDbGrj"
      },
      "source": [
        "# Database Analysis and Pre-processing"
      ]
    },
    {
      "cell_type": "markdown",
      "metadata": {
        "id": "p-4TvOLFbGrj"
      },
      "source": [
        "## Load Data"
      ]
    },
    {
      "cell_type": "code",
      "metadata": {
        "pycharm": {
          "is_executing": true
        },
        "id": "-VgbHDqGbGrk",
        "outputId": "686fe02e-5744-4b10-9b22-846e8b5ba5be",
        "colab": {
          "base_uri": "https://localhost:8080/",
          "height": 204
        }
      },
      "source": [
        "#  pip3 install https://github.com/explosion/spacy-models/releases/download/en_core_web_sm-2.0.0/en_core_web_sm-2.0.0.tar.gz#en_core_web_sm\n",
        "# python3 -m spacy download en_core_web_sm-2.2.0 --direct\n",
        "# TODO: en_core_web_sm and thinc causing issues\n",
        "import en_core_web_sm\n",
        "import thinc\n",
        "import pandas as pd\n",
        "import numpy as np\n",
        "import spacy\n",
        "from nltk import RegexpTokenizer\n",
        "# import spacy.en_core_web_sm\n",
        "# EN = en_core_web_sm.load()\n",
        "# spacy.download('en')\n",
        "EN = spacy.load('en_core_web_sm')\n",
        "df = pd.read_csv('/content/gdrive/My Drive/Stackoverflow_VS_extension/Data.csv')\n",
        "df.head()"
      ],
      "execution_count": 6,
      "outputs": [
        {
          "output_type": "execute_result",
          "data": {
            "text/html": [
              "<div>\n",
              "<style scoped>\n",
              "    .dataframe tbody tr th:only-of-type {\n",
              "        vertical-align: middle;\n",
              "    }\n",
              "\n",
              "    .dataframe tbody tr th {\n",
              "        vertical-align: top;\n",
              "    }\n",
              "\n",
              "    .dataframe thead th {\n",
              "        text-align: right;\n",
              "    }\n",
              "</style>\n",
              "<table border=\"1\" class=\"dataframe\">\n",
              "  <thead>\n",
              "    <tr style=\"text-align: right;\">\n",
              "      <th></th>\n",
              "      <th>Unnamed: 0</th>\n",
              "      <th>id</th>\n",
              "      <th>title</th>\n",
              "      <th>body</th>\n",
              "      <th>tags</th>\n",
              "      <th>answers</th>\n",
              "      <th>score</th>\n",
              "    </tr>\n",
              "  </thead>\n",
              "  <tbody>\n",
              "    <tr>\n",
              "      <th>0</th>\n",
              "      <td>0</td>\n",
              "      <td>8533318</td>\n",
              "      <td>multiprocessing.Pool: When to use apply, apply...</td>\n",
              "      <td>&lt;p&gt;I have not seen clear examples with use-cas...</td>\n",
              "      <td>python|multithreading|concurrency|multiprocessing</td>\n",
              "      <td>&lt;p&gt;Back in the old days of Python, to call a f...</td>\n",
              "      <td>435</td>\n",
              "    </tr>\n",
              "    <tr>\n",
              "      <th>1</th>\n",
              "      <td>1</td>\n",
              "      <td>5599022</td>\n",
              "      <td>Python: Pass a generic dictionary as a command...</td>\n",
              "      <td>&lt;p&gt;I have a script that needs to take in the n...</td>\n",
              "      <td>python|command-line-arguments</td>\n",
              "      <td>&lt;p&gt;That should be fairly easy to parse yoursel...</td>\n",
              "      <td>17</td>\n",
              "    </tr>\n",
              "    <tr>\n",
              "      <th>2</th>\n",
              "      <td>2</td>\n",
              "      <td>5178416</td>\n",
              "      <td>libxml install error using pip</td>\n",
              "      <td>&lt;p&gt;This is my error:&lt;/p&gt;\\n\\n&lt;pre&gt;&lt;code&gt;(mysite...</td>\n",
              "      <td>python|lxml|pip</td>\n",
              "      <td>&lt;p&gt;This worked for me:&lt;/p&gt;\\n\\n&lt;pre&gt;&lt;code&gt;yum i...</td>\n",
              "      <td>108</td>\n",
              "    </tr>\n",
              "    <tr>\n",
              "      <th>3</th>\n",
              "      <td>3</td>\n",
              "      <td>5178416</td>\n",
              "      <td>libxml install error using pip</td>\n",
              "      <td>&lt;p&gt;This is my error:&lt;/p&gt;\\n\\n&lt;pre&gt;&lt;code&gt;(mysite...</td>\n",
              "      <td>python|lxml|pip</td>\n",
              "      <td>&lt;blockquote&gt;\\n  &lt;p&gt;** make sure the developmen...</td>\n",
              "      <td>486</td>\n",
              "    </tr>\n",
              "    <tr>\n",
              "      <th>4</th>\n",
              "      <td>4</td>\n",
              "      <td>1995734</td>\n",
              "      <td>How are exceptions implemented under the hood?</td>\n",
              "      <td>&lt;p&gt;Just about everyone uses them, but many, in...</td>\n",
              "      <td>c++|python|c|exception</td>\n",
              "      <td>&lt;p&gt;In his book &lt;em&gt;C Interfaces and Implementa...</td>\n",
              "      <td>18</td>\n",
              "    </tr>\n",
              "  </tbody>\n",
              "</table>\n",
              "</div>"
            ],
            "text/plain": [
              "   Unnamed: 0  ...  score\n",
              "0           0  ...    435\n",
              "1           1  ...     17\n",
              "2           2  ...    108\n",
              "3           3  ...    486\n",
              "4           4  ...     18\n",
              "\n",
              "[5 rows x 7 columns]"
            ]
          },
          "metadata": {
            "tags": []
          },
          "execution_count": 6
        }
      ]
    },
    {
      "cell_type": "code",
      "metadata": {
        "pycharm": {
          "is_executing": true
        },
        "id": "lyjBlTKhbGrs",
        "outputId": "6d7a61e1-12e2-436f-faf0-5eb268a95667",
        "colab": {
          "base_uri": "https://localhost:8080/",
          "height": 34
        }
      },
      "source": [
        "print('Datebase shape:' + str(df.shape))"
      ],
      "execution_count": 7,
      "outputs": [
        {
          "output_type": "stream",
          "text": [
            "Datebase shape:(500000, 7)\n"
          ],
          "name": "stdout"
        }
      ]
    },
    {
      "cell_type": "markdown",
      "metadata": {
        "id": "VY_uM2JybGrx"
      },
      "source": [
        "## Missing Values"
      ]
    },
    {
      "cell_type": "markdown",
      "metadata": {
        "id": "8ofaFtKFbGry"
      },
      "source": [
        "No missing values detected in any of the columns"
      ]
    },
    {
      "cell_type": "code",
      "metadata": {
        "pycharm": {
          "is_executing": true
        },
        "id": "X6PpCwVzbGry",
        "outputId": "256f47c8-6f41-4626-93a3-9ebd26b7a9fb",
        "colab": {
          "base_uri": "https://localhost:8080/",
          "height": 153
        }
      },
      "source": [
        "df.isna().sum()"
      ],
      "execution_count": 8,
      "outputs": [
        {
          "output_type": "execute_result",
          "data": {
            "text/plain": [
              "Unnamed: 0    0\n",
              "id            0\n",
              "title         0\n",
              "body          0\n",
              "tags          0\n",
              "answers       0\n",
              "score         0\n",
              "dtype: int64"
            ]
          },
          "metadata": {
            "tags": []
          },
          "execution_count": 8
        }
      ]
    },
    {
      "cell_type": "markdown",
      "metadata": {
        "id": "NJnMtO9LbGr3"
      },
      "source": [
        "## Database Manipulation"
      ]
    },
    {
      "cell_type": "markdown",
      "metadata": {
        "id": "W9QfZK-obGr4"
      },
      "source": [
        "In order to construct a corpus, I grouped all the answers by concatenating them based on their common questions and tags. Moreover, I added the scores for each answer in order to get a collective score for an entire question"
      ]
    },
    {
      "cell_type": "code",
      "metadata": {
        "pycharm": {
          "is_executing": true
        },
        "id": "rYDmMxEnbGr5"
      },
      "source": [
        "# concat answers for each post\n",
        "grouped = df.groupby(['id','title', 'body','tags'], as_index = False).agg(\n",
        "    combined_answers=pd.NamedAgg(column='answers', aggfunc=lambda x: \"\\n\".join(x)),\n",
        "    combined_score=pd.NamedAgg(column='score', aggfunc=np.sum))\n",
        "deduped_df = pd.DataFrame(grouped)"
      ],
      "execution_count": 9,
      "outputs": []
    },
    {
      "cell_type": "code",
      "metadata": {
        "pycharm": {
          "is_executing": true
        },
        "id": "Na3Y9SpJbGr-",
        "outputId": "504ef668-76fc-4c20-8336-3db749fe6fa0",
        "colab": {
          "base_uri": "https://localhost:8080/",
          "height": 204
        }
      },
      "source": [
        "deduped_df.head()"
      ],
      "execution_count": 10,
      "outputs": [
        {
          "output_type": "execute_result",
          "data": {
            "text/html": [
              "<div>\n",
              "<style scoped>\n",
              "    .dataframe tbody tr th:only-of-type {\n",
              "        vertical-align: middle;\n",
              "    }\n",
              "\n",
              "    .dataframe tbody tr th {\n",
              "        vertical-align: top;\n",
              "    }\n",
              "\n",
              "    .dataframe thead th {\n",
              "        text-align: right;\n",
              "    }\n",
              "</style>\n",
              "<table border=\"1\" class=\"dataframe\">\n",
              "  <thead>\n",
              "    <tr style=\"text-align: right;\">\n",
              "      <th></th>\n",
              "      <th>id</th>\n",
              "      <th>title</th>\n",
              "      <th>body</th>\n",
              "      <th>tags</th>\n",
              "      <th>combined_answers</th>\n",
              "      <th>combined_score</th>\n",
              "    </tr>\n",
              "  </thead>\n",
              "  <tbody>\n",
              "    <tr>\n",
              "      <th>0</th>\n",
              "      <td>337</td>\n",
              "      <td>XML Processing in Python</td>\n",
              "      <td>&lt;p&gt;I am about to build a piece of a project th...</td>\n",
              "      <td>python|xml</td>\n",
              "      <td>&lt;p&gt;&lt;a href=\"http://effbot.org/zone/element-ind...</td>\n",
              "      <td>97</td>\n",
              "    </tr>\n",
              "    <tr>\n",
              "      <th>1</th>\n",
              "      <td>502</td>\n",
              "      <td>Get a preview JPEG of a PDF on Windows?</td>\n",
              "      <td>&lt;p&gt;I have a cross-platform (Python) applicatio...</td>\n",
              "      <td>python|windows|image|pdf</td>\n",
              "      <td>&lt;p&gt;ImageMagick delegates the PDF-&gt;bitmap conve...</td>\n",
              "      <td>55</td>\n",
              "    </tr>\n",
              "    <tr>\n",
              "      <th>2</th>\n",
              "      <td>683</td>\n",
              "      <td>Using 'in' to match an attribute of Python obj...</td>\n",
              "      <td>&lt;p&gt;I don't remember whether I was dreaming or ...</td>\n",
              "      <td>python|arrays|iteration</td>\n",
              "      <td>&lt;p&gt;Using a list comprehension would build a te...</td>\n",
              "      <td>84</td>\n",
              "    </tr>\n",
              "    <tr>\n",
              "      <th>3</th>\n",
              "      <td>773</td>\n",
              "      <td>How do I use itertools.groupby()?</td>\n",
              "      <td>&lt;p&gt;I haven't been able to find an understandab...</td>\n",
              "      <td>python|itertools</td>\n",
              "      <td>&lt;p&gt;This basic implementation helped me underst...</td>\n",
              "      <td>946</td>\n",
              "    </tr>\n",
              "    <tr>\n",
              "      <th>4</th>\n",
              "      <td>1171</td>\n",
              "      <td>What is the most efficient graph data structur...</td>\n",
              "      <td>&lt;p&gt;I need to be able to manipulate a large (10...</td>\n",
              "      <td>python|performance|data-structures|graph-theory</td>\n",
              "      <td>&lt;p&gt;Even though this question is now quite old,...</td>\n",
              "      <td>81</td>\n",
              "    </tr>\n",
              "  </tbody>\n",
              "</table>\n",
              "</div>"
            ],
            "text/plain": [
              "     id  ... combined_score\n",
              "0   337  ...             97\n",
              "1   502  ...             55\n",
              "2   683  ...             84\n",
              "3   773  ...            946\n",
              "4  1171  ...             81\n",
              "\n",
              "[5 rows x 6 columns]"
            ]
          },
          "metadata": {
            "tags": []
          },
          "execution_count": 10
        }
      ]
    },
    {
      "cell_type": "markdown",
      "metadata": {
        "id": "SzTxYY-mbGsC"
      },
      "source": [
        "The following code block shows the result of combining answers and their scores"
      ]
    },
    {
      "cell_type": "code",
      "metadata": {
        "pycharm": {
          "is_executing": true
        },
        "id": "0ZrGCq6ybGsD",
        "outputId": "a0a9a348-c595-4cbe-9ce9-021f85336b1a",
        "colab": {
          "base_uri": "https://localhost:8080/",
          "height": 85
        }
      },
      "source": [
        "print('Max score before: ') \n",
        "print(np.max(df.score.values))\n",
        "\n",
        "print('Max score after: ') \n",
        "print(np.max(deduped_df.combined_score.values))"
      ],
      "execution_count": 11,
      "outputs": [
        {
          "output_type": "stream",
          "text": [
            "Max score before: \n",
            "5316\n",
            "Max score after: \n",
            "6963\n"
          ],
          "name": "stdout"
        }
      ]
    },
    {
      "cell_type": "markdown",
      "metadata": {
        "id": "Hq-J5uQGbGsG"
      },
      "source": [
        "A couple of helper functions for Text Preprocessing. The steps followed to process a piece of raw text are:\n",
        "\n",
        "1. Convert raw text into tokens\n",
        "2. Convert tokens to lower case\n",
        "3. Remove punctuations\n",
        "4. Remove Stopwords \n",
        "\n",
        "Note: I skipped removal of numeric data since I felt it would remove precious contextual information. I also skipped a 'Stemming/Lemmatization' step because I did not want alter the domain specific terms used in our corpus and risk losing precious information"
      ]
    },
    {
      "cell_type": "code",
      "metadata": {
        "pycharm": {
          "is_executing": true
        },
        "id": "N6XYoZV4bGsI",
        "outputId": "2e5323b3-80ae-4cb1-dbc6-f590d2314066",
        "colab": {
          "base_uri": "https://localhost:8080/",
          "height": 51
        }
      },
      "source": [
        "import re\n",
        "import nltk\n",
        "# import inflect\n",
        "nltk.download('stopwords')\n",
        "from nltk.corpus import stopwords\n",
        "\n",
        "def tokenize_text(text):\n",
        "    \"Apply tokenization using spacy to docstrings.\"\n",
        "    tokens = EN.tokenizer(text)\n",
        "    return [token.text.lower() for token in tokens if not token.is_space]\n",
        "\n",
        "def to_lowercase(words):\n",
        "    \"\"\"Convert all characters to lowercase from list of tokenized words\"\"\"\n",
        "    new_words = []\n",
        "    for word in words:\n",
        "        new_word = word.lower()\n",
        "        new_words.append(new_word)\n",
        "    return new_words\n",
        "\n",
        "def remove_punctuation(words):\n",
        "    \"\"\"Remove punctuation from list of tokenized words\"\"\"\n",
        "    new_words = []\n",
        "    for word in words:\n",
        "        new_word = re.sub(r'[^\\w\\s]', '', word)\n",
        "        if new_word != '':\n",
        "            new_words.append(new_word)\n",
        "    return new_words\n",
        "\n",
        "def remove_stopwords(words):\n",
        "    \"\"\"Remove stop words from list of tokenized words\"\"\"\n",
        "    new_words = []\n",
        "    for word in words:\n",
        "        if word not in stopwords.words('english'):\n",
        "            new_words.append(word)\n",
        "    return new_words\n",
        "\n",
        "def normalize(words):\n",
        "    words = to_lowercase(words)\n",
        "    words = remove_punctuation(words)\n",
        "    words = remove_stopwords(words)\n",
        "    return words\n",
        "\n",
        "def tokenize_code(text):\n",
        "    \"A very basic procedure for tokenizing code strings.\"\n",
        "    return RegexpTokenizer(r'\\w+').tokenize(text)\n",
        "\n",
        "def preprocess_text(text):\n",
        "    return ' '.join(normalize(tokenize_text(text)))"
      ],
      "execution_count": 12,
      "outputs": [
        {
          "output_type": "stream",
          "text": [
            "[nltk_data] Downloading package stopwords to /root/nltk_data...\n",
            "[nltk_data]   Unzipping corpora/stopwords.zip.\n"
          ],
          "name": "stdout"
        }
      ]
    },
    {
      "cell_type": "markdown",
      "metadata": {
        "id": "dLK3SiMRbGsO"
      },
      "source": [
        "**The raw text for Questions and Answers is given along with the HTML markup with which it was displayed on StackOverflow originally**. \n",
        "These refer usually to *p tags, h1-h6 tags and the code tags*\n",
        "\n",
        "- I constructed a new feature column called 'post_corpus' by combining the title, question body, and all the answers\n",
        "- I prepended the title to the question body \n",
        "- I skipped the 'code' sections because they do not offer useful information for our task\n",
        "- I constructed urls for each question by appending 'https://stackoverflow.com/questions/' with the question id\n",
        "- I constructed 2 features for sentiment using the open Source **Textblob library** "
      ]
    },
    {
      "cell_type": "code",
      "metadata": {
        "pycharm": {
          "is_executing": true
        },
        "id": "i9oZzfRwbGsO"
      },
      "source": [
        "from bs4 import BeautifulSoup\n",
        "from textblob import TextBlob\n",
        "import lxml\n",
        "\n",
        "title_list = [] \n",
        "content_list = []\n",
        "url_list = []\n",
        "comment_list = []\n",
        "sentiment_polarity_list = []\n",
        "sentiment_subjectivity_list = []\n",
        "vote_list =[]\n",
        "tag_list = []\n",
        "corpus_list = []\n",
        "for i, row in deduped_df.iterrows():\n",
        "    title_list.append(row.title)    # Get question title\n",
        "    tag_list.append(row.tags)     # Get question tags\n",
        "    \n",
        "    # Questions\n",
        "    content = row.body\n",
        "    soup = BeautifulSoup(content, 'lxml')\n",
        "    if soup.code: soup.code.decompose()     # Remove the code section\n",
        "    tag_p = soup.p\n",
        "    tag_pre = soup.pre\n",
        "    text = ''\n",
        "    if tag_p: text = text + tag_p.get_text()\n",
        "    if tag_pre: text = text + tag_pre.get_text()\n",
        "        \n",
        "    content_list.append(str(row.title) + ' ' + str(text))   # Append title and question body data to the updated question body\n",
        "    \n",
        "    url_list.append('https://stackoverflow.com/questions/' + str(row.id))\n",
        "    \n",
        "    # Answers\n",
        "    content = row.combined_answers\n",
        "    soup = BeautifulSoup(content, 'lxml')\n",
        "    if soup.code: soup.code.decompose()\n",
        "    tag_p = soup.p\n",
        "    tag_pre = soup.pre\n",
        "    text = ''\n",
        "    if tag_p: text = text + tag_p.get_text()\n",
        "    if tag_pre: text = text + tag_pre.get_text()\n",
        "    comment_list.append(text)\n",
        "    \n",
        "    vote_list.append(row.combined_score)       # Append votes\n",
        "    \n",
        "    corpus_list.append(content_list[-1] + ' ' + comment_list[-1])     # Combine the updated body and answers to make the corpus\n",
        "    \n",
        "    sentiment = TextBlob(row.combined_answers).sentiment\n",
        "    sentiment_polarity_list.append(sentiment.polarity)\n",
        "    sentiment_subjectivity_list.append(sentiment.subjectivity)\n",
        "\n",
        "content_token_df = pd.DataFrame({'original_title': title_list, 'post_corpus': corpus_list, 'question_content': content_list, 'question_url': url_list, 'tags': tag_list, 'overall_scores':vote_list,'answers_content': comment_list, 'sentiment_polarity': sentiment_polarity_list, 'sentiment_subjectivity':sentiment_subjectivity_list})"
      ],
      "execution_count": 13,
      "outputs": []
    },
    {
      "cell_type": "code",
      "metadata": {
        "pycharm": {
          "is_executing": true
        },
        "id": "9zx8EUpTbGsR",
        "outputId": "dbf8aaaf-44f6-4ebb-b09a-5df50127ae79",
        "colab": {
          "base_uri": "https://localhost:8080/",
          "height": 34
        }
      },
      "source": [
        "content_token_df.head()\n",
        "print(content_token_df.shape)"
      ],
      "execution_count": 14,
      "outputs": [
        {
          "output_type": "stream",
          "text": [
            "(294697, 9)\n"
          ],
          "name": "stdout"
        }
      ]
    },
    {
      "cell_type": "markdown",
      "metadata": {
        "id": "XJuXYvwObGsV"
      },
      "source": [
        "## Filter for only the most common tags"
      ]
    },
    {
      "cell_type": "markdown",
      "metadata": {
        "id": "_GWTf8THbGsV"
      },
      "source": [
        "Each post has a variable number of different tags. In order to narrow down the vast choices for a more accurate model"
      ]
    },
    {
      "cell_type": "code",
      "metadata": {
        "pycharm": {
          "is_executing": true
        },
        "id": "sIDBIQnSbGsW"
      },
      "source": [
        "content_token_df.tags = content_token_df.tags.apply(lambda x: x.split('|'))   # Convert raw text data of tags into lists\n",
        "\n",
        "# Make a dictionary to count the frequencies for all tags\n",
        "tag_freq_dict = {}\n",
        "for tags in content_token_df.tags:\n",
        "    for tag in tags:\n",
        "        if tag not in tag_freq_dict:\n",
        "            tag_freq_dict[tag] = 0\n",
        "        else:\n",
        "            tag_freq_dict[tag] += 1"
      ],
      "execution_count": 15,
      "outputs": []
    },
    {
      "cell_type": "markdown",
      "metadata": {
        "id": "xYD986uqbGsc"
      },
      "source": [
        "As a personal choice, I decided to with **20 most common tags**, which are shown below"
      ]
    },
    {
      "cell_type": "code",
      "metadata": {
        "pycharm": {
          "is_executing": true
        },
        "id": "yENsp4-kbGse"
      },
      "source": [
        "import heapq\n",
        "most_common_tags = heapq.nlargest(20, tag_freq_dict, key=tag_freq_dict.get)"
      ],
      "execution_count": 16,
      "outputs": []
    },
    {
      "cell_type": "code",
      "metadata": {
        "pycharm": {
          "is_executing": true
        },
        "id": "g4JhEkKebGsh",
        "outputId": "8c34f885-b528-495e-faf1-718ad78d7d63",
        "colab": {
          "base_uri": "https://localhost:8080/",
          "height": 357
        }
      },
      "source": [
        "most_common_tags"
      ],
      "execution_count": 17,
      "outputs": [
        {
          "output_type": "execute_result",
          "data": {
            "text/plain": [
              "['python',\n",
              " 'python-3.x',\n",
              " 'pandas',\n",
              " 'django',\n",
              " 'python-2.7',\n",
              " 'numpy',\n",
              " 'list',\n",
              " 'dataframe',\n",
              " 'matplotlib',\n",
              " 'dictionary',\n",
              " 'regex',\n",
              " 'tkinter',\n",
              " 'tensorflow',\n",
              " 'flask',\n",
              " 'string',\n",
              " 'csv',\n",
              " 'arrays',\n",
              " 'json',\n",
              " 'selenium',\n",
              " 'beautifulsoup']"
            ]
          },
          "metadata": {
            "tags": []
          },
          "execution_count": 17
        }
      ]
    },
    {
      "cell_type": "markdown",
      "metadata": {
        "id": "-A0kVO41bGsl"
      },
      "source": [
        "The plan is to filter only the data which contains at least one of most_common_tags "
      ]
    },
    {
      "cell_type": "code",
      "metadata": {
        "pycharm": {
          "is_executing": true
        },
        "id": "YOPAAVtKbGsl"
      },
      "source": [
        "final_indices = []\n",
        "for i,tags in enumerate(content_token_df.tags.values.tolist()):\n",
        "    if len(set(tags).intersection(set(most_common_tags)))>1:   # The minimum length for common tags should be 2 because 'python' is a common tag for all\n",
        "        final_indices.append(i)"
      ],
      "execution_count": 18,
      "outputs": []
    },
    {
      "cell_type": "code",
      "metadata": {
        "pycharm": {
          "is_executing": true
        },
        "id": "g-AT1Q7HbGsp"
      },
      "source": [
        "final_data = content_token_df.iloc[final_indices]"
      ],
      "execution_count": 19,
      "outputs": []
    },
    {
      "cell_type": "markdown",
      "metadata": {
        "id": "uv5sGnfPbGsu"
      },
      "source": [
        "## Data Normalization"
      ]
    },
    {
      "cell_type": "markdown",
      "metadata": {
        "id": "PLD1KsOubGsu"
      },
      "source": [
        "- I created a separate column for the 'processed_title' because I wanted to preserve the original title because I wanted to serve the original titles in the app\n",
        "- I also normalized the numeric 'scores'"
      ]
    },
    {
      "cell_type": "code",
      "metadata": {
        "pycharm": {
          "is_executing": true
        },
        "id": "ukVxhwI7bGsv",
        "outputId": "4a821336-5398-4083-c055-12f6a0b55598",
        "colab": {
          "base_uri": "https://localhost:8080/",
          "height": 221
        }
      },
      "source": [
        "# import spacy\n",
        "# EN = spacy.load('en_core_web_sm')\n",
        "\n",
        "# Preprocess text for 'question_body', 'post_corpus' and a new column 'processed_title'\n",
        "final_data.question_content = final_data.question_content.apply(lambda x: preprocess_text(x))\n",
        "final_data.post_corpus = final_data.post_corpus.apply(lambda x: preprocess_text(x))\n",
        "final_data['processed_title'] = final_data.original_title.apply(lambda x: preprocess_text(x))\n",
        "\n",
        "# Normalize numeric data for the scores\n",
        "final_data.overall_scores = (final_data.overall_scores - final_data.overall_scores.mean()) / (final_data.overall_scores.max() - final_data.overall_scores.min())"
      ],
      "execution_count": 20,
      "outputs": [
        {
          "output_type": "stream",
          "text": [
            "/usr/local/lib/python3.6/dist-packages/pandas/core/generic.py:5168: SettingWithCopyWarning: \n",
            "A value is trying to be set on a copy of a slice from a DataFrame.\n",
            "Try using .loc[row_indexer,col_indexer] = value instead\n",
            "\n",
            "See the caveats in the documentation: https://pandas.pydata.org/pandas-docs/stable/user_guide/indexing.html#returning-a-view-versus-a-copy\n",
            "  self[name] = value\n",
            "/usr/local/lib/python3.6/dist-packages/ipykernel_launcher.py:7: SettingWithCopyWarning: \n",
            "A value is trying to be set on a copy of a slice from a DataFrame.\n",
            "Try using .loc[row_indexer,col_indexer] = value instead\n",
            "\n",
            "See the caveats in the documentation: https://pandas.pydata.org/pandas-docs/stable/user_guide/indexing.html#returning-a-view-versus-a-copy\n",
            "  import sys\n"
          ],
          "name": "stderr"
        }
      ]
    },
    {
      "cell_type": "code",
      "metadata": {
        "pycharm": {
          "is_executing": true
        },
        "id": "-0G57x1ObGsy",
        "outputId": "667fd12d-89b9-4e37-ef92-65eb6aed751e",
        "colab": {
          "base_uri": "https://localhost:8080/",
          "height": 861
        }
      },
      "source": [
        "final_data.tags = final_data.tags.apply(lambda x: '|'.join(x))    # Combine the lists back into text data\n",
        "final_data.drop(['answers_content'], axis=1)     # Remove the answers_content columns because it is alreaady included in the corpus"
      ],
      "execution_count": 21,
      "outputs": [
        {
          "output_type": "stream",
          "text": [
            "/usr/local/lib/python3.6/dist-packages/pandas/core/generic.py:5168: SettingWithCopyWarning: \n",
            "A value is trying to be set on a copy of a slice from a DataFrame.\n",
            "Try using .loc[row_indexer,col_indexer] = value instead\n",
            "\n",
            "See the caveats in the documentation: https://pandas.pydata.org/pandas-docs/stable/user_guide/indexing.html#returning-a-view-versus-a-copy\n",
            "  self[name] = value\n"
          ],
          "name": "stderr"
        },
        {
          "output_type": "execute_result",
          "data": {
            "text/html": [
              "<div>\n",
              "<style scoped>\n",
              "    .dataframe tbody tr th:only-of-type {\n",
              "        vertical-align: middle;\n",
              "    }\n",
              "\n",
              "    .dataframe tbody tr th {\n",
              "        vertical-align: top;\n",
              "    }\n",
              "\n",
              "    .dataframe thead th {\n",
              "        text-align: right;\n",
              "    }\n",
              "</style>\n",
              "<table border=\"1\" class=\"dataframe\">\n",
              "  <thead>\n",
              "    <tr style=\"text-align: right;\">\n",
              "      <th></th>\n",
              "      <th>original_title</th>\n",
              "      <th>post_corpus</th>\n",
              "      <th>question_content</th>\n",
              "      <th>question_url</th>\n",
              "      <th>tags</th>\n",
              "      <th>overall_scores</th>\n",
              "      <th>sentiment_polarity</th>\n",
              "      <th>sentiment_subjectivity</th>\n",
              "      <th>processed_title</th>\n",
              "    </tr>\n",
              "  </thead>\n",
              "  <tbody>\n",
              "    <tr>\n",
              "      <th>2</th>\n",
              "      <td>Using 'in' to match an attribute of Python obj...</td>\n",
              "      <td>using match attribute python objects array nt ...</td>\n",
              "      <td>using match attribute python objects array nt ...</td>\n",
              "      <td>https://stackoverflow.com/questions/683</td>\n",
              "      <td>python|arrays|iteration</td>\n",
              "      <td>0.011301</td>\n",
              "      <td>0.163567</td>\n",
              "      <td>0.568209</td>\n",
              "      <td>using match attribute python objects array</td>\n",
              "    </tr>\n",
              "    <tr>\n",
              "      <th>6</th>\n",
              "      <td>Python version of PHP's stripslashes</td>\n",
              "      <td>python version php stripslashes wrote piece co...</td>\n",
              "      <td>python version php stripslashes wrote piece co...</td>\n",
              "      <td>https://stackoverflow.com/questions/13454</td>\n",
              "      <td>python|string|escaping</td>\n",
              "      <td>0.001115</td>\n",
              "      <td>0.195000</td>\n",
              "      <td>0.519274</td>\n",
              "      <td>python version php stripslashes</td>\n",
              "    </tr>\n",
              "    <tr>\n",
              "      <th>7</th>\n",
              "      <td>Unicode vs UTF-8 confusion in Python / Django?</td>\n",
              "      <td>unicode vs utf8 confusion python django stumbl...</td>\n",
              "      <td>unicode vs utf8 confusion python django stumbl...</td>\n",
              "      <td>https://stackoverflow.com/questions/22149</td>\n",
              "      <td>python|django|unicode</td>\n",
              "      <td>0.006997</td>\n",
              "      <td>0.082857</td>\n",
              "      <td>0.403250</td>\n",
              "      <td>unicode vs utf8 confusion python django</td>\n",
              "    </tr>\n",
              "    <tr>\n",
              "      <th>24</th>\n",
              "      <td>Using Django time/date widgets in custom form</td>\n",
              "      <td>using django time date widgets custom form use...</td>\n",
              "      <td>using django time date widgets custom form use...</td>\n",
              "      <td>https://stackoverflow.com/questions/38601</td>\n",
              "      <td>python|django</td>\n",
              "      <td>0.041431</td>\n",
              "      <td>0.302423</td>\n",
              "      <td>0.599938</td>\n",
              "      <td>using django time date widgets custom form</td>\n",
              "    </tr>\n",
              "    <tr>\n",
              "      <th>32</th>\n",
              "      <td>Can parallel traversals be done in MATLAB just...</td>\n",
              "      <td>parallel traversals done matlab python using f...</td>\n",
              "      <td>parallel traversals done matlab python using f...</td>\n",
              "      <td>https://stackoverflow.com/questions/49307</td>\n",
              "      <td>python|arrays|matlab|for-loop</td>\n",
              "      <td>0.002837</td>\n",
              "      <td>0.358333</td>\n",
              "      <td>0.752381</td>\n",
              "      <td>parallel traversals done matlab python</td>\n",
              "    </tr>\n",
              "    <tr>\n",
              "      <th>...</th>\n",
              "      <td>...</td>\n",
              "      <td>...</td>\n",
              "      <td>...</td>\n",
              "      <td>...</td>\n",
              "      <td>...</td>\n",
              "      <td>...</td>\n",
              "      <td>...</td>\n",
              "      <td>...</td>\n",
              "      <td>...</td>\n",
              "    </tr>\n",
              "    <tr>\n",
              "      <th>294679</th>\n",
              "      <td>How can I insert spaces between words given a ...</td>\n",
              "      <td>insert spaces words given list lists coded let...</td>\n",
              "      <td>insert spaces words given list lists coded let...</td>\n",
              "      <td>https://stackoverflow.com/questions/63758260</td>\n",
              "      <td>python|list|dictionary|spacing</td>\n",
              "      <td>-0.000607</td>\n",
              "      <td>0.243050</td>\n",
              "      <td>0.873782</td>\n",
              "      <td>insert spaces words given list lists coded let...</td>\n",
              "    </tr>\n",
              "    <tr>\n",
              "      <th>294680</th>\n",
              "      <td>Django creates another media folder inside med...</td>\n",
              "      <td>django creates another media folder inside med...</td>\n",
              "      <td>django creates another media folder inside med...</td>\n",
              "      <td>https://stackoverflow.com/questions/63758482</td>\n",
              "      <td>python|django|python-imaging-library</td>\n",
              "      <td>-0.000176</td>\n",
              "      <td>0.055556</td>\n",
              "      <td>0.444444</td>\n",
              "      <td>django creates another media folder inside med...</td>\n",
              "    </tr>\n",
              "    <tr>\n",
              "      <th>294682</th>\n",
              "      <td>Options for deploying Flask app that continuou...</td>\n",
              "      <td>options deploying flask app continuously web s...</td>\n",
              "      <td>options deploying flask app continuously web s...</td>\n",
              "      <td>https://stackoverflow.com/questions/63758866</td>\n",
              "      <td>python|flask|heroku|web-scraping|web-applications</td>\n",
              "      <td>-0.000607</td>\n",
              "      <td>0.044898</td>\n",
              "      <td>0.545003</td>\n",
              "      <td>options deploying flask app continuously web s...</td>\n",
              "    </tr>\n",
              "    <tr>\n",
              "      <th>294683</th>\n",
              "      <td>Delete \"nan\" in python list</td>\n",
              "      <td>delete nan python list new python simple quest...</td>\n",
              "      <td>delete nan python list new python simple quest...</td>\n",
              "      <td>https://stackoverflow.com/questions/63758902</td>\n",
              "      <td>python|list</td>\n",
              "      <td>-0.000750</td>\n",
              "      <td>0.138095</td>\n",
              "      <td>0.636310</td>\n",
              "      <td>delete nan python list</td>\n",
              "    </tr>\n",
              "    <tr>\n",
              "      <th>294685</th>\n",
              "      <td>Django : python manage.py runserver (multiple ...</td>\n",
              "      <td>django python managepy runserver multiple erro...</td>\n",
              "      <td>django python managepy runserver multiple erro...</td>\n",
              "      <td>https://stackoverflow.com/questions/63759220</td>\n",
              "      <td>python|python-3.x|django|ubuntu</td>\n",
              "      <td>-0.000750</td>\n",
              "      <td>0.148396</td>\n",
              "      <td>0.531907</td>\n",
              "      <td>django python managepy runserver multiple errors</td>\n",
              "    </tr>\n",
              "  </tbody>\n",
              "</table>\n",
              "<p>147059 rows × 9 columns</p>\n",
              "</div>"
            ],
            "text/plain": [
              "                                           original_title  ...                                    processed_title\n",
              "2       Using 'in' to match an attribute of Python obj...  ...         using match attribute python objects array\n",
              "6                    Python version of PHP's stripslashes  ...                    python version php stripslashes\n",
              "7          Unicode vs UTF-8 confusion in Python / Django?  ...            unicode vs utf8 confusion python django\n",
              "24          Using Django time/date widgets in custom form  ...         using django time date widgets custom form\n",
              "32      Can parallel traversals be done in MATLAB just...  ...             parallel traversals done matlab python\n",
              "...                                                   ...  ...                                                ...\n",
              "294679  How can I insert spaces between words given a ...  ...  insert spaces words given list lists coded let...\n",
              "294680  Django creates another media folder inside med...  ...  django creates another media folder inside med...\n",
              "294682  Options for deploying Flask app that continuou...  ...  options deploying flask app continuously web s...\n",
              "294683                        Delete \"nan\" in python list  ...                             delete nan python list\n",
              "294685  Django : python manage.py runserver (multiple ...  ...   django python managepy runserver multiple errors\n",
              "\n",
              "[147059 rows x 9 columns]"
            ]
          },
          "metadata": {
            "tags": []
          },
          "execution_count": 21
        }
      ]
    },
    {
      "cell_type": "code",
      "metadata": {
        "pycharm": {
          "is_executing": true
        },
        "id": "AsoVHd3FbGs1"
      },
      "source": [
        "# Save the data\n",
        "final_data.to_csv('/content/gdrive/My Drive/Stackoverflow_VS_extension/Preprocessed_data.csv', index=False)"
      ],
      "execution_count": 22,
      "outputs": []
    },
    {
      "cell_type": "code",
      "metadata": {
        "pycharm": {
          "is_executing": true
        },
        "id": "AoJrwqXQbGs4"
      },
      "source": [
        ""
      ],
      "execution_count": null,
      "outputs": []
    }
  ]
}