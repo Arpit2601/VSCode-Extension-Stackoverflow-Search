{
  "nbformat": 4,
  "nbformat_minor": 0,
  "metadata": {
    "colab": {
      "name": "Tag Prediction Model.ipynb",
      "provenance": [],
      "collapsed_sections": []
    },
    "kernelspec": {
      "display_name": "Python 3",
      "language": "python",
      "name": "python3"
    },
    "language_info": {
      "codemirror_mode": {
        "name": "ipython",
        "version": 3
      },
      "file_extension": ".py",
      "mimetype": "text/x-python",
      "name": "python",
      "nbconvert_exporter": "python",
      "pygments_lexer": "ipython3",
      "version": "3.8.5"
    },
    "accelerator": "GPU"
  },
  "cells": [
    {
      "cell_type": "markdown",
      "metadata": {
        "id": "1XbhWitKkJ7w"
      },
      "source": [
        "## **StackOverflow VS-Code Extension ::** \n",
        "## **Tag Prediction Model**\n",
        "### Group 11"
      ]
    },
    {
      "cell_type": "markdown",
      "metadata": {
        "id": "KfH2cMmHkJ70"
      },
      "source": [
        "## Loading Processed Dataset"
      ]
    },
    {
      "cell_type": "code",
      "metadata": {
        "id": "pWBpi1YP2noV",
        "colab": {
          "base_uri": "https://localhost:8080/"
        },
        "outputId": "bb6148bc-c3bc-46a1-b2d8-cd4153fff7e1"
      },
      "source": [
        "from google.colab import drive\n",
        "drive.mount('/content/gdrive')"
      ],
      "execution_count": null,
      "outputs": [
        {
          "output_type": "stream",
          "text": [
            "Mounted at /content/gdrive\n"
          ],
          "name": "stdout"
        }
      ]
    },
    {
      "cell_type": "code",
      "metadata": {
        "id": "E0NcDLY5kJ71"
      },
      "source": [
        "\n",
        "import os\n",
        "import numpy as np\n",
        "import pandas as pd\n",
        "import tensorflow as tf\n",
        "import spacy\n",
        "import matplotlib.pyplot as plt\n",
        "from wordcloud import WordCloud\n",
        "EN = spacy.load('en_core_web_sm')"
      ],
      "execution_count": null,
      "outputs": []
    },
    {
      "cell_type": "code",
      "metadata": {
        "id": "wVe-KL8wkJ79",
        "colab": {
          "base_uri": "https://localhost:8080/",
          "height": 306
        },
        "outputId": "3f77695e-81e8-4d99-db35-eb91c54554af"
      },
      "source": [
        "data = pd.read_csv('/content/gdrive/My Drive/Stackoverflow_VS_extension/Preprocessed_data.csv')\n",
        "print(data.shape)\n",
        "data.head()"
      ],
      "execution_count": null,
      "outputs": [
        {
          "output_type": "stream",
          "text": [
            "(147059, 8)\n"
          ],
          "name": "stdout"
        },
        {
          "output_type": "execute_result",
          "data": {
            "text/html": [
              "<div>\n",
              "<style scoped>\n",
              "    .dataframe tbody tr th:only-of-type {\n",
              "        vertical-align: middle;\n",
              "    }\n",
              "\n",
              "    .dataframe tbody tr th {\n",
              "        vertical-align: top;\n",
              "    }\n",
              "\n",
              "    .dataframe thead th {\n",
              "        text-align: right;\n",
              "    }\n",
              "</style>\n",
              "<table border=\"1\" class=\"dataframe\">\n",
              "  <thead>\n",
              "    <tr style=\"text-align: right;\">\n",
              "      <th></th>\n",
              "      <th>original_title</th>\n",
              "      <th>post_corpus</th>\n",
              "      <th>question_content</th>\n",
              "      <th>question_url</th>\n",
              "      <th>tags</th>\n",
              "      <th>overall_scores</th>\n",
              "      <th>answers_content</th>\n",
              "      <th>processed_title</th>\n",
              "    </tr>\n",
              "  </thead>\n",
              "  <tbody>\n",
              "    <tr>\n",
              "      <th>0</th>\n",
              "      <td>Using 'in' to match an attribute of Python obj...</td>\n",
              "      <td>using match attribute python objects array nt ...</td>\n",
              "      <td>using match attribute python objects array nt ...</td>\n",
              "      <td>https://stackoverflow.com/questions/683</td>\n",
              "      <td>python|arrays|iteration</td>\n",
              "      <td>0.011301</td>\n",
              "      <td>Using a list comprehension would build a tempo...</td>\n",
              "      <td>using match attribute python objects array</td>\n",
              "    </tr>\n",
              "    <tr>\n",
              "      <th>1</th>\n",
              "      <td>Python version of PHP's stripslashes</td>\n",
              "      <td>python version php stripslashes wrote piece co...</td>\n",
              "      <td>python version php stripslashes wrote piece co...</td>\n",
              "      <td>https://stackoverflow.com/questions/13454</td>\n",
              "      <td>python|string|escaping</td>\n",
              "      <td>0.001115</td>\n",
              "      <td>Python has a built-in escape() function analog...</td>\n",
              "      <td>python version php stripslashes</td>\n",
              "    </tr>\n",
              "    <tr>\n",
              "      <th>2</th>\n",
              "      <td>Unicode vs UTF-8 confusion in Python / Django?</td>\n",
              "      <td>unicode vs utf8 confusion python django stumbl...</td>\n",
              "      <td>unicode vs utf8 confusion python django stumbl...</td>\n",
              "      <td>https://stackoverflow.com/questions/22149</td>\n",
              "      <td>python|django|unicode</td>\n",
              "      <td>0.006997</td>\n",
              "      <td>From Wikipedia on UTF-8:</td>\n",
              "      <td>unicode vs utf8 confusion python django</td>\n",
              "    </tr>\n",
              "    <tr>\n",
              "      <th>3</th>\n",
              "      <td>Using Django time/date widgets in custom form</td>\n",
              "      <td>using django time date widgets custom form use...</td>\n",
              "      <td>using django time date widgets custom form use...</td>\n",
              "      <td>https://stackoverflow.com/questions/38601</td>\n",
              "      <td>python|django</td>\n",
              "      <td>0.041431</td>\n",
              "      <td>Starting in Django 1.2 RC1, if you're using th...</td>\n",
              "      <td>using django time date widgets custom form</td>\n",
              "    </tr>\n",
              "    <tr>\n",
              "      <th>4</th>\n",
              "      <td>Can parallel traversals be done in MATLAB just...</td>\n",
              "      <td>parallel traversals done matlab python using f...</td>\n",
              "      <td>parallel traversals done matlab python using f...</td>\n",
              "      <td>https://stackoverflow.com/questions/49307</td>\n",
              "      <td>python|arrays|matlab|for-loop</td>\n",
              "      <td>0.002837</td>\n",
              "      <td>should be for example:</td>\n",
              "      <td>parallel traversals done matlab python</td>\n",
              "    </tr>\n",
              "  </tbody>\n",
              "</table>\n",
              "</div>"
            ],
            "text/plain": [
              "                                      original_title  ...                             processed_title\n",
              "0  Using 'in' to match an attribute of Python obj...  ...  using match attribute python objects array\n",
              "1               Python version of PHP's stripslashes  ...             python version php stripslashes\n",
              "2     Unicode vs UTF-8 confusion in Python / Django?  ...     unicode vs utf8 confusion python django\n",
              "3      Using Django time/date widgets in custom form  ...  using django time date widgets custom form\n",
              "4  Can parallel traversals be done in MATLAB just...  ...      parallel traversals done matlab python\n",
              "\n",
              "[5 rows x 8 columns]"
            ]
          },
          "metadata": {
            "tags": []
          },
          "execution_count": 3
        }
      ]
    },
    {
      "cell_type": "markdown",
      "metadata": {
        "id": "JJmwPLRbkJ8g"
      },
      "source": [
        "## Training Word Embeddings Model\n",
        "We use gensim to train our word embedding model"
      ]
    },
    {
      "cell_type": "code",
      "metadata": {
        "id": "SF9iDilWkJ8i"
      },
      "source": [
        "\n",
        "import gensim\n",
        "\n",
        "W2V_SIZE = 300\n",
        "W2V_WINDOW = 7\n",
        "W2V_EPOCH = 32\n",
        "W2V_MIN_COUNT = 10\n",
        "\n",
        "documents = [_text.split() for _text in np.array(data.post_corpus)]  "
      ],
      "execution_count": null,
      "outputs": []
    },
    {
      "cell_type": "code",
      "metadata": {
        "id": "I_4hgCXhkJ8q"
      },
      "source": [
        "\n",
        "\n",
        "w2v_model = gensim.models.word2vec.Word2Vec(size=W2V_SIZE, \n",
        "                                            window=W2V_WINDOW, \n",
        "                                            min_count=W2V_MIN_COUNT, \n",
        "                                            workers=8)\n",
        "w2v_model.build_vocab(documents)\n",
        "words = w2v_model.wv.vocab.keys()\n",
        "vocab_size = len(words)\n",
        "print(\"Vocab size\", vocab_size)\n",
        "\n",
        "w2v_model.train(documents, total_examples=len(documents), epochs=W2V_EPOCH)\n",
        "w2v_model.save('/content/gdrive/My Drive/Stackoverflow_VS_extension/SO_word2vec_embeddings.bin')\n"
      ],
      "execution_count": null,
      "outputs": []
    },
    {
      "cell_type": "code",
      "metadata": {
        "id": "s5wbLbHDkJ8u"
      },
      "source": [
        "\n",
        "w2v_model = gensim.models.word2vec.Word2Vec.load('/content/gdrive/My Drive/Stackoverflow_VS_extension/SO_word2vec_embeddings.bin')"
      ],
      "execution_count": null,
      "outputs": []
    },
    {
      "cell_type": "code",
      "metadata": {
        "id": "a5NoELBIkJ8_",
        "colab": {
          "base_uri": "https://localhost:8080/"
        },
        "outputId": "7f45cf4f-aa51-403f-ff94-b76e79c41e88"
      },
      "source": [
        "\n",
        "print('Terms most similar to \"dataframe\"')\n",
        "print(w2v_model.wv.most_similar(\"dataframe\"))\n",
        "print('Terms most similar to \"matplotlib\"')\n",
        "print(w2v_model.wv.most_similar(\"matplotlib\"))\n",
        "print('Terms most similar to \"list\"')\n",
        "print(w2v_model.wv.most_similar(\"list\"))\n",
        "print('Terms most similar to \"scipy\"')\n",
        "print(w2v_model.wv.most_similar(\"scipy\"))\n"
      ],
      "execution_count": null,
      "outputs": [
        {
          "output_type": "stream",
          "text": [
            "Terms most similar to \"dataframe\"\n",
            "[('column', 0.7256514430046082), ('dataframes', 0.6733587384223938), ('columns', 0.6662962436676025), ('pandas', 0.6136767268180847), ('series', 0.6034044623374939), ('frame', 0.5821376442909241), ('rows', 0.5803079605102539), ('df', 0.5779855251312256), ('dataset', 0.5477191209793091), ('groupby', 0.5331104397773743)]\n",
            "Terms most similar to \"matplotlib\"\n",
            "[('matlibplot', 0.5427229404449463), ('matplotlibs', 0.5059307813644409), ('pyplot', 0.4861833453178406), ('plot', 0.47908711433410645), ('pylab', 0.4675483703613281), ('plotting', 0.4614831805229187), ('mplot3d', 0.4611230194568634), ('matplolib', 0.45407480001449585), ('plots', 0.45263585448265076), ('matplotlibpyplot', 0.4367786943912506)]\n",
            "Terms most similar to \"list\"\n",
            "[('lists', 0.730812668800354), ('dictionary', 0.6977571249008179), ('tuple', 0.5968090295791626), ('tuples', 0.5925501585006714), ('array', 0.5868478417396545), ('string', 0.5647833347320557), ('sublist', 0.5439674854278564), ('sublists', 0.5225641131401062), ('dict', 0.5111915469169617), ('strings', 0.5083281397819519)]\n",
            "Terms most similar to \"scipy\"\n",
            "[('curve_fit', 0.47573667764663696), ('scipyoptimize', 0.4328162968158722), ('scipyinterpolate', 0.4326855540275574), ('scipyintegrate', 0.4274173080921173), ('ndimage', 0.42562127113342285), ('rbf', 0.4161975383758545), ('find_peaks', 0.40899497270584106), ('dblquad', 0.4073420763015747), ('cdist', 0.4053146243095398), ('interp1d', 0.40334224700927734)]\n"
          ],
          "name": "stdout"
        },
        {
          "output_type": "stream",
          "text": [
            "/usr/local/lib/python3.6/dist-packages/gensim/matutils.py:737: FutureWarning: Conversion of the second argument of issubdtype from `int` to `np.signedinteger` is deprecated. In future, it will be treated as `np.int64 == np.dtype(int).type`.\n",
            "  if np.issubdtype(vec.dtype, np.int):\n"
          ],
          "name": "stderr"
        }
      ]
    },
    {
      "cell_type": "markdown",
      "metadata": {
        "id": "5vTalmPgkJ8T"
      },
      "source": [
        "### Choosing 500 most frequent tags\n",
        "These acts as ground truth for one-hot encoding"
      ]
    },
    {
      "cell_type": "code",
      "metadata": {
        "id": "qpiRSdGskJ8C"
      },
      "source": [
        "\n",
        "data.tags = data.tags.apply(lambda x: x.split('|'))\n",
        "tag_freq_dict = {}\n",
        "for tags in data.tags:\n",
        "    for tag in tags:\n",
        "        if tag not in tag_freq_dict:\n",
        "            tag_freq_dict[tag] = 0\n",
        "        else:\n",
        "            tag_freq_dict[tag] += 1"
      ],
      "execution_count": null,
      "outputs": []
    },
    {
      "cell_type": "code",
      "metadata": {
        "id": "UHZclES0kJ8O",
        "colab": {
          "base_uri": "https://localhost:8080/"
        },
        "outputId": "c97a83e4-d8ca-4040-ae97-af047f1c5751"
      },
      "source": [
        "\n",
        "tags_to_use = 500\n",
        "tag_freq_dict_sorted = dict(sorted(tag_freq_dict.items(), key=lambda x: x[1], reverse=True))\n",
        "final_tags = list(tag_freq_dict_sorted.keys())[:tags_to_use]\n",
        "len(final_tags)"
      ],
      "execution_count": null,
      "outputs": [
        {
          "output_type": "execute_result",
          "data": {
            "text/plain": [
              "500"
            ]
          },
          "metadata": {
            "tags": []
          },
          "execution_count": 9
        }
      ]
    },
    {
      "cell_type": "code",
      "metadata": {
        "id": "qkNcE-0AkJ8T"
      },
      "source": [
        "\n",
        "final_tag_data = []\n",
        "for tags in data.tags:\n",
        "    temp = []\n",
        "    for tag in tags:\n",
        "        if tag in final_tags:\n",
        "            temp.append(tag)\n",
        "    final_tag_data.append(temp)"
      ],
      "execution_count": null,
      "outputs": []
    },
    {
      "cell_type": "markdown",
      "metadata": {
        "id": "lLswMoIJkJ8Z"
      },
      "source": [
        "## One-hot encode tags for each question in our database"
      ]
    },
    {
      "cell_type": "code",
      "metadata": {
        "id": "bNvqEt5FkJ8b",
        "colab": {
          "base_uri": "https://localhost:8080/"
        },
        "outputId": "211b0a0b-ee84-4821-c579-a15455b92ae2"
      },
      "source": [
        "from sklearn.preprocessing import MultiLabelBinarizer\n",
        "tag_encoder = MultiLabelBinarizer()\n",
        "tags_encoded = tag_encoder.fit_transform(final_tag_data)\n",
        "tags_encoded.shape"
      ],
      "execution_count": null,
      "outputs": [
        {
          "output_type": "execute_result",
          "data": {
            "text/plain": [
              "(147059, 500)"
            ]
          },
          "metadata": {
            "tags": []
          },
          "execution_count": 11
        }
      ]
    },
    {
      "cell_type": "markdown",
      "metadata": {
        "id": "-3tU5UFgkJ9E"
      },
      "source": [
        "# Training Model"
      ]
    },
    {
      "cell_type": "markdown",
      "metadata": {
        "id": "d5uHpTiJkJ9F"
      },
      "source": [
        "### Dataset splitting"
      ]
    },
    {
      "cell_type": "code",
      "metadata": {
        "id": "M67BIGK2kJ9G",
        "colab": {
          "base_uri": "https://localhost:8080/"
        },
        "outputId": "3d0ddd5c-b326-4b6b-a5db-03393e900ddd"
      },
      "source": [
        "\n",
        "from sklearn.model_selection import train_test_split\n",
        "X_train, X_test, y_train, y_test = train_test_split(np.array(data.processed_title), tags_encoded, test_size=0.2, random_state=42)\n",
        "print(\"X_train shape:\", X_train.shape)\n",
        "print(\"X_test shape:\", X_test.shape)\n",
        "print(\"y_train shape:\", y_train.shape)\n",
        "print(\"y_test shape:\", y_test.shape)"
      ],
      "execution_count": null,
      "outputs": [
        {
          "output_type": "stream",
          "text": [
            "X_train shape: (117647,)\n",
            "X_test shape: (29412,)\n",
            "y_train shape: (117647, 500)\n",
            "y_test shape: (29412, 500)\n"
          ],
          "name": "stdout"
        }
      ]
    },
    {
      "cell_type": "markdown",
      "metadata": {
        "id": "csbqltS5kJ9J"
      },
      "source": [
        "### Tokenizing"
      ]
    },
    {
      "cell_type": "code",
      "metadata": {
        "id": "JtFL5SzIkJ9K",
        "colab": {
          "base_uri": "https://localhost:8080/"
        },
        "outputId": "ee8203a2-37ab-4074-eb4d-e9ab7d82353c"
      },
      "source": [
        "\n",
        "from tensorflow.keras.preprocessing.text import Tokenizer\n",
        "from tensorflow.keras.preprocessing.sequence import pad_sequences\n",
        "from tensorflow.keras.models import Sequential\n",
        "from tensorflow.keras.layers import Dense, Embedding, LSTM, Dropout\n",
        "from keras.utils.np_utils import to_categorical\n",
        "\n",
        "MAX_SEQUENCE_LENGTH = 300\n",
        "\n",
        "EMBEDDING_DIM = 300\n",
        "\n",
        "tokenizer = Tokenizer()\n",
        "tokenizer.fit_on_texts(data.post_corpus)\n",
        "word_index = tokenizer.word_index   \n",
        "vocab_size = len(word_index)\n",
        "print('Found %s unique tokens.' % len(word_index))\n",
        "\n",
        "\n",
        "import pickle\n",
        "with open('/content/gdrive/My Drive/Stackoverflow_VS_extension/tokenizer.pickle', 'wb') as handle:\n",
        "    pickle.dump(tokenizer, handle, protocol=pickle.HIGHEST_PROTOCOL)\n"
      ],
      "execution_count": null,
      "outputs": [
        {
          "output_type": "stream",
          "text": [
            "Found 471299 unique tokens.\n"
          ],
          "name": "stdout"
        }
      ]
    },
    {
      "cell_type": "code",
      "metadata": {
        "id": "M8nIWaOJkJ9N",
        "colab": {
          "base_uri": "https://localhost:8080/"
        },
        "outputId": "49168a79-d446-4595-e31a-fbf24e05131f"
      },
      "source": [
        "\n",
        "import pickle\n",
        "with open('/content/gdrive/My Drive/Stackoverflow_VS_extension/tokenizer.pickle', 'rb') as handle:\n",
        "    tokenizer = pickle.load(handle)\n",
        "word_index = tokenizer.word_index\n",
        "vocab_size = len(word_index)\n",
        "print('Found %s unique tokens.' % len(word_index))"
      ],
      "execution_count": null,
      "outputs": [
        {
          "output_type": "stream",
          "text": [
            "Found 471299 unique tokens.\n"
          ],
          "name": "stdout"
        }
      ]
    },
    {
      "cell_type": "code",
      "metadata": {
        "id": "tiAz3jK-kJ9S",
        "colab": {
          "base_uri": "https://localhost:8080/"
        },
        "outputId": "2c24a9d2-61e4-46f7-d953-788977b2c782"
      },
      "source": [
        "## Add padding\n",
        "X_train_padded = tokenizer.texts_to_sequences(X_train)\n",
        "X_train_padded = pad_sequences(X_train_padded, maxlen=MAX_SEQUENCE_LENGTH)\n",
        "print('Shape of data tensor:', X_train_padded.shape)"
      ],
      "execution_count": null,
      "outputs": [
        {
          "output_type": "stream",
          "text": [
            "Shape of data tensor: (117647, 300)\n"
          ],
          "name": "stdout"
        }
      ]
    },
    {
      "cell_type": "code",
      "metadata": {
        "id": "sU0nQQCEkJ9W",
        "colab": {
          "base_uri": "https://localhost:8080/"
        },
        "outputId": "2c721b51-27bd-4ece-ec7c-228ecdb1a003"
      },
      "source": [
        "\n",
        "embedding_matrix = np.zeros((vocab_size+1, W2V_SIZE))\n",
        "for word, i in tokenizer.word_index.items():\n",
        "    if word in w2v_model.wv:\n",
        "        embedding_matrix[i] = w2v_model.wv[word]\n",
        "print(embedding_matrix.shape)"
      ],
      "execution_count": null,
      "outputs": [
        {
          "output_type": "stream",
          "text": [
            "(471300, 300)\n"
          ],
          "name": "stdout"
        }
      ]
    },
    {
      "cell_type": "markdown",
      "metadata": {
        "id": "Bw1pigJ8kJ9e"
      },
      "source": [
        "## Model training using GRU ."
      ]
    },
    {
      "cell_type": "code",
      "metadata": {
        "id": "lB6D25uVkJ9f",
        "colab": {
          "base_uri": "https://localhost:8080/",
          "height": 1000
        },
        "outputId": "98426f0f-908d-40a6-c360-d7a7fe93242b"
      },
      "source": [
        "\n",
        "from tensorflow.keras.layers import Dense, Embedding,GRU\n",
        "from tensorflow.keras.layers import BatchNormalization\n",
        "from datetime import datetime\n",
        "from time import time\n",
        "from keras.utils.vis_utils import plot_model\n",
        "\n",
        "\n",
        "model = Sequential()\n",
        "model.add(Embedding(vocab_size+1, W2V_SIZE, weights=[embedding_matrix], input_length=MAX_SEQUENCE_LENGTH, trainable=False))\n",
        "model.add(GRU(500, activation='relu',kernel_initializer='he_normal'))\n",
        "model.add(BatchNormalization())\n",
        "model.add(Dense(150,activation='relu'))\n",
        "model.add(BatchNormalization())\n",
        "model.add(Dense(500, activation='sigmoid'))\n",
        "model.summary()\n",
        "\n",
        "model.compile(loss=\"binary_crossentropy\",\n",
        "              optimizer=\"adam\")\n",
        "\n",
        "plot_model(model, to_file='model_plot.png', show_shapes=True, show_layer_names=True)"
      ],
      "execution_count": null,
      "outputs": [
        {
          "output_type": "stream",
          "text": [
            "WARNING:tensorflow:Layer gru will not use cuDNN kernel since it doesn't meet the cuDNN kernel criteria. It will use generic GPU kernel as fallback when running on GPU\n",
            "Model: \"sequential\"\n",
            "_________________________________________________________________\n",
            "Layer (type)                 Output Shape              Param #   \n",
            "=================================================================\n",
            "embedding (Embedding)        (None, 300, 300)          141390000 \n",
            "_________________________________________________________________\n",
            "gru (GRU)                    (None, 500)               1203000   \n",
            "_________________________________________________________________\n",
            "batch_normalization (BatchNo (None, 500)               2000      \n",
            "_________________________________________________________________\n",
            "dense (Dense)                (None, 150)               75150     \n",
            "_________________________________________________________________\n",
            "batch_normalization_1 (Batch (None, 150)               600       \n",
            "_________________________________________________________________\n",
            "dense_1 (Dense)              (None, 500)               75500     \n",
            "=================================================================\n",
            "Total params: 142,746,250\n",
            "Trainable params: 1,354,950\n",
            "Non-trainable params: 141,391,300\n",
            "_________________________________________________________________\n"
          ],
          "name": "stdout"
        },
        {
          "output_type": "execute_result",
          "data": {
            "image/png": "[encoded data removed]",
            "text/plain": [
              "<IPython.core.display.Image object>"
            ]
          },
          "metadata": {
            "tags": []
          },
          "execution_count": 17
        }
      ]
    },
    {
      "cell_type": "code",
      "metadata": {
        "id": "qgvz82Y352VJ",
        "colab": {
          "base_uri": "https://localhost:8080/"
        },
        "outputId": "9d214286-9d3b-4c3c-c45e-f9c087550185"
      },
      "source": [
        "BATCH_SIZE = 1024\n",
        "history = model.fit(X_train_padded, y_train, batch_size=BATCH_SIZE, epochs=10, validation_split=0.1, verbose=1)"
      ],
      "execution_count": null,
      "outputs": [
        {
          "output_type": "stream",
          "text": [
            "Epoch 1/10\n",
            "104/104 [==============================] - 98s 943ms/step - loss: 0.4892 - val_loss: 0.1206\n",
            "Epoch 2/10\n",
            "104/104 [==============================] - 100s 963ms/step - loss: 0.0559 - val_loss: 0.0287\n",
            "Epoch 3/10\n",
            "104/104 [==============================] - 100s 965ms/step - loss: 0.0217 - val_loss: 0.0187\n",
            "Epoch 4/10\n",
            "104/104 [==============================] - 100s 964ms/step - loss: 0.0165 - val_loss: 0.0159\n",
            "Epoch 5/10\n",
            "104/104 [==============================] - 100s 963ms/step - loss: 0.0144 - val_loss: 0.0144\n",
            "Epoch 6/10\n",
            "104/104 [==============================] - 100s 966ms/step - loss: 0.0132 - val_loss: 0.0134\n",
            "Epoch 7/10\n",
            "104/104 [==============================] - 100s 965ms/step - loss: 0.0123 - val_loss: 0.0126\n",
            "Epoch 8/10\n",
            "104/104 [==============================] - 100s 963ms/step - loss: 0.0116 - val_loss: 0.0122\n",
            "Epoch 9/10\n",
            "104/104 [==============================] - 100s 961ms/step - loss: 0.0110 - val_loss: 0.0119\n",
            "Epoch 10/10\n",
            "104/104 [==============================] - 100s 959ms/step - loss: 0.0104 - val_loss: 0.0118\n"
          ],
          "name": "stdout"
        }
      ]
    },
    {
      "cell_type": "code",
      "metadata": {
        "id": "OqEGaixp-Rt9"
      },
      "source": [
        "model.save_weights('/content/gdrive/My Drive/Stackoverflow_VS_extension/Tag_predictor_weights.h5')"
      ],
      "execution_count": null,
      "outputs": []
    },
    {
      "cell_type": "code",
      "metadata": {
        "id": "bQAGEc9XygJX"
      },
      "source": [
        "# Function to calculate average cosine similarity for tags of test dataset\n",
        "from sklearn.metrics.pairwise import cosine_similarity\n",
        "def calculate_accuracy(y_test, yhat):\n",
        "    cosine_similarities_tags = 0\n",
        "    for i in range(len(y_test)):\n",
        "        predicted_tags = yhat[i]\n",
        "        predicted_tags = np.array(predicted_tags)[np.newaxis]\n",
        "        y_test_i = np.array(y_test[i])[np.newaxis]\n",
        "        cosine_similarities_tags += pd.Series(cosine_similarity(predicted_tags, y_test_i)[0])\n",
        "    cosine_similarities_tags /= len(y_test)\n",
        "    return cosine_similarities_tags"
      ],
      "execution_count": null,
      "outputs": []
    },
    {
      "cell_type": "code",
      "metadata": {
        "id": "nYCC1_jI_hIT",
        "colab": {
          "base_uri": "https://localhost:8080/"
        },
        "outputId": "089fc9d0-732e-4117-b9c5-3c142a6b4900"
      },
      "source": [
        "\n",
        "X_test_padded = tokenizer.texts_to_sequences(X_test)\n",
        "X_test_padded = pad_sequences(X_test_padded, maxlen=MAX_SEQUENCE_LENGTH)\n",
        "print('Shape of test data tensor:', X_test_padded.shape)\n",
        "yhat = model.predict(X_test_padded)"
      ],
      "execution_count": null,
      "outputs": [
        {
          "output_type": "stream",
          "text": [
            "Shape of test data tensor: (29412, 300)\n"
          ],
          "name": "stdout"
        }
      ]
    },
    {
      "cell_type": "markdown",
      "metadata": {
        "id": "dswGzZ-NX1Ry"
      },
      "source": [
        "Average Cosine Similarity with the test dataset"
      ]
    },
    {
      "cell_type": "code",
      "metadata": {
        "colab": {
          "base_uri": "https://localhost:8080/"
        },
        "id": "7id8kU4q_RcH",
        "outputId": "4b013d3e-a830-4f4c-f268-ae7a088f8fd6"
      },
      "source": [
        "\n",
        "acc = calculate_accuracy(y_test, yhat)\n",
        "print(\"GRU accuracy: %.3f\" % acc)"
      ],
      "execution_count": null,
      "outputs": [
        {
          "output_type": "stream",
          "text": [
            ">0.778\n"
          ],
          "name": "stdout"
        }
      ]
    },
    {
      "cell_type": "markdown",
      "metadata": {
        "id": "7zAH1TrMNS1J"
      },
      "source": [
        "## Model training using LSTM."
      ]
    },
    {
      "cell_type": "code",
      "metadata": {
        "colab": {
          "base_uri": "https://localhost:8080/",
          "height": 1000
        },
        "id": "kdCF4cthL-Jz",
        "outputId": "8583c51b-85ae-41f1-d377-108032d8ffe7"
      },
      "source": [
        "\n",
        "from tensorflow.keras.layers import LSTM\n",
        "\n",
        "model2 = Sequential()\n",
        "model2.add(Embedding(vocab_size+1, W2V_SIZE, weights=[embedding_matrix], input_length=MAX_SEQUENCE_LENGTH, trainable=False))\n",
        "model2.add(LSTM(500, activation='relu',kernel_initializer='he_normal'))\n",
        "model2.add(BatchNormalization())\n",
        "model2.add(Dense(150,activation='relu'))\n",
        "model2.add(BatchNormalization())\n",
        "model2.add(Dense(500, activation='sigmoid'))\n",
        "model2.summary()\n",
        "\n",
        "model2.compile(loss=\"binary_crossentropy\",\n",
        "              optimizer=\"adam\")\n",
        "\n",
        "plot_model(model2, to_file='model_plot.png', show_shapes=True, show_layer_names=True)"
      ],
      "execution_count": null,
      "outputs": [
        {
          "output_type": "stream",
          "text": [
            "WARNING:tensorflow:Layer lstm will not use cuDNN kernel since it doesn't meet the cuDNN kernel criteria. It will use generic GPU kernel as fallback when running on GPU\n",
            "Model: \"sequential_1\"\n",
            "_________________________________________________________________\n",
            "Layer (type)                 Output Shape              Param #   \n",
            "=================================================================\n",
            "embedding_1 (Embedding)      (None, 300, 300)          141390000 \n",
            "_________________________________________________________________\n",
            "lstm (LSTM)                  (None, 500)               1602000   \n",
            "_________________________________________________________________\n",
            "batch_normalization_2 (Batch (None, 500)               2000      \n",
            "_________________________________________________________________\n",
            "dense_2 (Dense)              (None, 150)               75150     \n",
            "_________________________________________________________________\n",
            "batch_normalization_3 (Batch (None, 150)               600       \n",
            "_________________________________________________________________\n",
            "dense_3 (Dense)              (None, 500)               75500     \n",
            "=================================================================\n",
            "Total params: 143,145,250\n",
            "Trainable params: 1,753,950\n",
            "Non-trainable params: 141,391,300\n",
            "_________________________________________________________________\n"
          ],
          "name": "stdout"
        },
        {
          "output_type": "execute_result",
          "data": {
            "image/png": "[encoded data removed]",
            "text/plain": [
              "<IPython.core.display.Image object>"
            ]
          },
          "metadata": {
            "tags": []
          },
          "execution_count": 26
        }
      ]
    },
    {
      "cell_type": "code",
      "metadata": {
        "colab": {
          "base_uri": "https://localhost:8080/"
        },
        "id": "h1PFIgH9MKLV",
        "outputId": "0d874dcf-7bdc-431f-906d-f5120a018e3c"
      },
      "source": [
        "BATCH_SIZE = 1024\n",
        "history2 = model2.fit(X_train_padded, y_train, batch_size=BATCH_SIZE, epochs=10, validation_split=0.1, verbose=1)"
      ],
      "execution_count": null,
      "outputs": [
        {
          "output_type": "stream",
          "text": [
            "Epoch 1/10\n",
            "104/104 [==============================] - 119s 1s/step - loss: 0.4951 - val_loss: 0.1544\n",
            "Epoch 2/10\n",
            "104/104 [==============================] - 116s 1s/step - loss: 0.0582 - val_loss: 0.0315\n",
            "Epoch 3/10\n",
            "104/104 [==============================] - 117s 1s/step - loss: 0.0222 - val_loss: 0.0217\n",
            "Epoch 4/10\n",
            "104/104 [==============================] - 110s 1s/step - loss: 0.0220 - val_loss: 0.0235\n",
            "Epoch 5/10\n",
            "104/104 [==============================] - 109s 1s/step - loss: 0.0214 - val_loss: 0.0215\n",
            "Epoch 6/10\n",
            "104/104 [==============================] - 109s 1s/step - loss: 0.0208 - val_loss: 0.0207\n",
            "Epoch 7/10\n",
            "104/104 [==============================] - 108s 1s/step - loss: 0.0205 - val_loss: 0.0204\n",
            "Epoch 8/10\n",
            "104/104 [==============================] - 108s 1s/step - loss: 0.0204 - val_loss: 0.0203\n",
            "Epoch 9/10\n",
            "104/104 [==============================] - 109s 1s/step - loss: 0.0203 - val_loss: 0.0202\n",
            "Epoch 10/10\n",
            "104/104 [==============================] - 108s 1s/step - loss: 0.0203 - val_loss: 0.0201\n"
          ],
          "name": "stdout"
        }
      ]
    },
    {
      "cell_type": "markdown",
      "metadata": {
        "id": "QS1dAMlDYBk8"
      },
      "source": [
        "Average Cosine Similarity with the test dataset"
      ]
    },
    {
      "cell_type": "code",
      "metadata": {
        "colab": {
          "base_uri": "https://localhost:8080/"
        },
        "id": "6BAyCU1MMPE4",
        "outputId": "2ab8056b-4b8c-4437-b212-c36855bd8e95"
      },
      "source": [
        "\n",
        "yhat2 = model2.predict(X_test_padded)\n",
        "acc = calculate_accuracy(y_test, yhat2)\n",
        "print(\"LSTM accuracy: %.3f\" % acc)"
      ],
      "execution_count": null,
      "outputs": [
        {
          "output_type": "stream",
          "text": [
            "LSTM accuracy: 0.604\n"
          ],
          "name": "stdout"
        }
      ]
    },
    {
      "cell_type": "markdown",
      "metadata": {
        "id": "TtpO3cYWkJ9p"
      },
      "source": [
        "## Result Visualization\n",
        "\n",
        "Since GRU Models gives better accuracy (average cosine similarity), we chose it to be our prediction model"
      ]
    },
    {
      "cell_type": "code",
      "metadata": {
        "id": "P5FNGxAQkJ9q",
        "colab": {
          "base_uri": "https://localhost:8080/",
          "height": 315
        },
        "outputId": "c57bd83e-646a-4b81-e255-be9356655cde"
      },
      "source": [
        "\n",
        "import matplotlib.pyplot as plt\n",
        "X_test_padded = tokenizer.texts_to_sequences(X_test)\n",
        "X_test_padded = pad_sequences(X_test_padded, maxlen=MAX_SEQUENCE_LENGTH)\n",
        "score = model.evaluate(X_test_padded, y_test, batch_size=512)\n",
        "print(\"LOSS:\",score)\n",
        "\n",
        "loss = history.history[\"loss\"]\n",
        "val_loss = history.history['val_loss']\n",
        " \n",
        "epochs = range(len(loss))\n",
        " \n",
        "plt.plot(epochs, loss, 'b', label='Training loss')\n",
        "plt.plot(epochs, val_loss, 'r', label='Validation loss')\n",
        "plt.title('Training and validation loss')\n",
        "plt.legend()\n",
        " \n",
        "plt.show()"
      ],
      "execution_count": null,
      "outputs": [
        {
          "output_type": "stream",
          "text": [
            "58/58 [==============================] - 12s 209ms/step - loss: 0.0120\n",
            "LOSS: 0.011963573284447193\n"
          ],
          "name": "stdout"
        },
        {
          "output_type": "display_data",
          "data": {
            "image/png": "[encoded data removed]",
            "text/plain": [
              "<Figure size 432x288 with 1 Axes>"
            ]
          },
          "metadata": {
            "tags": [],
            "needs_background": "light"
          }
        }
      ]
    },
    {
      "cell_type": "code",
      "metadata": {
        "id": "nnPl4F6_kJ9u"
      },
      "source": [
        "\n",
        "def predict_tags(text):\n",
        "\n",
        "    x_test = pad_sequences(tokenizer.texts_to_sequences([text]), maxlen=MAX_SEQUENCE_LENGTH)\n",
        "\n",
        "    prediction = model.predict([x_test])[0]\n",
        "    indices = prediction.argsort()[-5:]\n",
        "    for i,_ in enumerate(prediction):\n",
        "        if i in indices:\n",
        "            prediction[i] = 1\n",
        "        else:\n",
        "            prediction[i] = 0\n",
        "    tags = tag_encoder.inverse_transform(np.array([prediction]))\n",
        "    return tags"
      ],
      "execution_count": null,
      "outputs": []
    },
    {
      "cell_type": "code",
      "metadata": {
        "id": "bCQ3cG8RkJ9y",
        "colab": {
          "base_uri": "https://localhost:8080/"
        },
        "outputId": "521738bb-8cef-4ef8-d188-3b764050a16c"
      },
      "source": [
        "test_idx = np.random.randint(len(X_test), size=5)\n",
        "\n",
        "for idx in test_idx:\n",
        "    test_case = idx\n",
        "    print('Test Case: ' + str(X_test[test_case]))\n",
        "    print('-'*100)\n",
        "    print('Predicted: ' + str(predict_tags(X_test[test_case])))\n",
        "    print('Ground Truth: ' + str(tag_encoder.inverse_transform(np.array([y_test[test_case]]))))\n",
        "    print('\\n')"
      ],
      "execution_count": null,
      "outputs": [
        {
          "output_type": "stream",
          "text": [
            "Test Case: ldamodel random_state parameter recognized gensim\n",
            "----------------------------------------------------------------------------------------------------\n",
            "Predicted: [('numpy', 'python', 'python-2.7', 'python-3.x', 'random')]\n",
            "Ground Truth: [('numpy', 'python-3.x')]\n",
            "\n",
            "\n",
            "Test Case: flask code displays hello world code work inside main thanks\n",
            "----------------------------------------------------------------------------------------------------\n",
            "Predicted: [('flask', 'html', 'jinja2', 'python', 'python-3.x')]\n",
            "Ground Truth: [('flask', 'python')]\n",
            "\n",
            "\n",
            "Test Case: python sqlite3 never returns inner join 28 milion rows\n",
            "----------------------------------------------------------------------------------------------------\n",
            "Predicted: [('python', 'python-3.x', 'sql', 'sqlite', 'tkinter')]\n",
            "Ground Truth: [('python', 'python-2.7', 'sqlite')]\n",
            "\n",
            "\n",
            "Test Case: tensorflow optimizer negative feedback\n",
            "----------------------------------------------------------------------------------------------------\n",
            "Predicted: [('deep-learning', 'keras', 'machine-learning', 'python', 'tensorflow')]\n",
            "Ground Truth: [('optimization', 'python', 'tensorflow')]\n",
            "\n",
            "\n",
            "Test Case: python pillow tkinter destroy image\n",
            "----------------------------------------------------------------------------------------------------\n",
            "Predicted: [('python', 'python-2.7', 'python-3.x', 'python-imaging-library', 'tkinter')]\n",
            "Ground Truth: [('image', 'pillow', 'python', 'tkinter')]\n",
            "\n",
            "\n"
          ],
          "name": "stdout"
        }
      ]
    },
    {
      "cell_type": "code",
      "metadata": {
        "id": "518Jz1kMOh02"
      },
      "source": [
        ""
      ],
      "execution_count": null,
      "outputs": []
    }
  ]
}